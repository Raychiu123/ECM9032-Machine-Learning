{
 "cells": [
  {
   "cell_type": "code",
   "execution_count": 1,
   "metadata": {
    "collapsed": true
   },
   "outputs": [],
   "source": [
    "import pandas as pd\n",
    "import matplotlib.pyplot as plt\n",
    "from numpy.linalg import inv\n",
    "from math import exp\n",
    "import scipy.io as sio\n",
    "import numpy as np\n",
    "target = sio.loadmat('C:\\\\Users\\\\gaexp\\\\OneDrive\\\\Documents\\\\Machine Learning\\\\Homework\\\\[2017]ML_HW1\\\\data\\\\5_T.mat')\n",
    "X = sio.loadmat('C:\\\\Users\\\\gaexp\\\\OneDrive\\\\Documents\\\\Machine Learning\\\\Homework\\\\[2017]ML_HW1\\\\data\\\\5_X.mat')"
   ]
  },
  {
   "cell_type": "code",
   "execution_count": 2,
   "metadata": {
    "collapsed": true
   },
   "outputs": [],
   "source": [
    "def rmse(predictions, targets): #Root Mean Square\n",
    "    return np.sqrt(((np.array(predictions) - np.array(targets)) ** 2).mean())"
   ]
  },
  {
   "cell_type": "code",
   "execution_count": 3,
   "metadata": {
    "collapsed": true
   },
   "outputs": [],
   "source": [
    "train_target1 = target['T'][0:40]\n",
    "train_target2 = target['T'][50:90]\n",
    "train_target3 = target['T'][100:140]\n",
    "train_target = np.append(train_target1,train_target2)\n",
    "train_target = np.append(train_target,train_target3) #train_target\n",
    "test_target1 = target['T'][40:50]\n",
    "test_target2 = target['T'][90:100]\n",
    "test_target3 = target['T'][140:150]\n",
    "test_target = np.append(test_target1,test_target2)\n",
    "test_target = np.append(test_target, test_target3) #test_target\n",
    "\n",
    "train_X1 = X['X'][0:40]\n",
    "train_X2 = X['X'][50:90]\n",
    "train_X3 = X['X'][100:140]\n",
    "train_x = np.append(train_X1,train_X2, axis=0)\n",
    "train_x = np.append(train_x,train_X3, axis=0) #train_X\n",
    "\n",
    "test_X1 = X['X'][40:50]\n",
    "test_X2 = X['X'][90:100]\n",
    "test_X3 = X['X'][140:150]\n",
    "test_x = np.append(test_X1,test_X2, axis=0)\n",
    "test_x = np.append(test_x,test_X3, axis=0) #test_X"
   ]
  },
  {
   "cell_type": "code",
   "execution_count": 4,
   "metadata": {},
   "outputs": [],
   "source": [
    "func=[]\n",
    "func1=[]\n",
    "func2=[]\n",
    "func3=[]\n",
    "func4=[]\n",
    "func5=[]\n",
    "func6=[]\n",
    "func7=[]\n",
    "func8=[]\n",
    "func9=[]\n",
    "for i in range(120): \n",
    "    func.append(1)\n",
    "    func1.append(train_x[i][0])\n",
    "    func2.append(train_x[i][1])\n",
    "    func3.append(train_x[i][2])\n",
    "    func4.append(train_x[i][3])\n",
    "fi1 = np.array([func,func1,func2,func3,func4]) #Basis function for M=1(train)\n",
    "for i in range(30): \n",
    "    func5.append(1)\n",
    "    func6.append(test_x[i][0])\n",
    "    func7.append(test_x[i][1])\n",
    "    func8.append(test_x[i][2])\n",
    "    func9.append(test_x[i][3])\n",
    "fi2 = np.array([func5,func6,func7,func8,func9]) #Basis function for M=1(test)\n"
   ]
  },
  {
   "cell_type": "code",
   "execution_count": 5,
   "metadata": {
    "collapsed": true
   },
   "outputs": [],
   "source": [
    "w1 = np.dot(np.dot(inv(np.dot(fi1,fi1.transpose())),fi1),train_target) #w_ml for M=1\n",
    "w0_1 = np.array(train_x).mean()-np.dot(w1[1:],np.array([fi1[1].mean(),fi1[2].mean(),fi1[3].mean(),fi1[4].mean()])).mean() #w0_ml for M=1"
   ]
  },
  {
   "cell_type": "code",
   "execution_count": 6,
   "metadata": {},
   "outputs": [
    {
     "name": "stdout",
     "output_type": "stream",
     "text": [
      "1.49595335281 1.50234684543\n"
     ]
    }
   ],
   "source": [
    "train_rmse1 = rmse(w0_1+np.dot(w1[1:],fi1[1:]),train_target)\n",
    "test_rmse1 = rmse(w0_1+np.dot(w1[1:],fi2[1:]),test_target)\n",
    "print(test_rmse1,train_rmse1)"
   ]
  },
  {
   "cell_type": "code",
   "execution_count": 7,
   "metadata": {},
   "outputs": [],
   "source": [
    "func10=[]\n",
    "func11=[]\n",
    "func12=[]\n",
    "func13=[]\n",
    "func14=[]\n",
    "func15=[]\n",
    "func16=[]\n",
    "func17=[]\n",
    "func18=[]\n",
    "func19=[]\n",
    "for i in range(120):\n",
    "    func10.append(train_x[i][0]**2)\n",
    "    func11.append(train_x[i][0]*train_x[i][1])\n",
    "    func12.append(train_x[i][0]*train_x[i][2])\n",
    "    func13.append(train_x[i][0]*train_x[i][3])\n",
    "    func14.append(train_x[i][1]*train_x[i][1])\n",
    "    func15.append(train_x[i][1]*train_x[i][2])\n",
    "    func16.append(train_x[i][1]*train_x[i][3])\n",
    "    func17.append(train_x[i][2]*train_x[i][2])\n",
    "    func18.append(train_x[i][2]*train_x[i][3])\n",
    "    func19.append(train_x[i][3]*train_x[i][3])\n",
    "    \n",
    "fi3 = np.array([func,func1,func2,func3,func4,func10,func11,func12,func13,func11,func14,func15,func16,func12,func15,func17,func18,func13,func16,func18,func19])\n",
    "fi3 = fi3.transpose()  #Basis function for M=2(train)\n",
    "\n",
    "func20=[]\n",
    "func21=[]\n",
    "func22=[]\n",
    "func23=[]\n",
    "func24=[]\n",
    "func25=[]\n",
    "func26=[]\n",
    "func27=[]\n",
    "func28=[]\n",
    "func29=[]\n",
    "for i in range(30):\n",
    "    func20.append(test_x[i][0]**2)\n",
    "    func21.append(test_x[i][0]*test_x[i][1])\n",
    "    func22.append(test_x[i][0]*test_x[i][2])\n",
    "    func23.append(test_x[i][0]*test_x[i][3])\n",
    "    func24.append(test_x[i][1]*test_x[i][1])\n",
    "    func25.append(test_x[i][1]*test_x[i][2])\n",
    "    func26.append(test_x[i][1]*test_x[i][3])\n",
    "    func27.append(test_x[i][2]*test_x[i][2])\n",
    "    func28.append(test_x[i][2]*test_x[i][3])\n",
    "    func29.append(test_x[i][3]*test_x[i][3])\n",
    "    \n",
    "fi4 = np.array([func5,func6,func7,func8,func9,func20,func21,func22,func23,func21,func24,func25,func26,func22,func25,func27,func28,func23,func26,func28,func29])\n",
    "fi4 = fi4.transpose() #Basis function for M=2(test)\n"
   ]
  },
  {
   "cell_type": "code",
   "execution_count": 8,
   "metadata": {},
   "outputs": [],
   "source": [
    "w2 = np.dot(np.dot(inv(np.dot(fi3.transpose(),fi3)),fi3.transpose()),train_target)\n",
    "w0_2 = (train_x).mean()-np.dot(w2[1:],np.array([fi3[1].mean(),fi3[2].mean(),fi3[3].mean(),fi3[4].mean(),fi3[5].mean(),fi3[6].mean(),fi3[7].mean(),fi3[8].mean(),fi3[9].mean(),fi3[10].mean(),fi3[11].mean(),fi3[12].mean(),fi3[13].mean(),fi3[14].mean(),fi3[15].mean(),fi3[16].mean(),fi3[17].mean(),fi3[18].mean(),fi3[19].mean(),fi3[20].mean()]))"
   ]
  },
  {
   "cell_type": "code",
   "execution_count": 9,
   "metadata": {},
   "outputs": [
    {
     "name": "stdout",
     "output_type": "stream",
     "text": [
      "2.02982321833e+23 2.02982321837e+23\n"
     ]
    }
   ],
   "source": [
    "train_rmse2 = rmse(w0_2+np.dot(w2[1:],fi3.transpose()[1:]),train_target)\n",
    "test_rmse2 = rmse(w0_2+np.dot(w2[1:],fi4.transpose()[1:]),test_target)\n",
    "print(test_rmse2,train_rmse2)"
   ]
  },
  {
   "cell_type": "code",
   "execution_count": 10,
   "metadata": {},
   "outputs": [
    {
     "data": {
      "text/plain": [
       "12.074599802119355"
      ]
     },
     "execution_count": 10,
     "metadata": {},
     "output_type": "execute_result"
    }
   ],
   "source": [
    "fi5 = np.array([func,func1,func10]) #for attribute1\n",
    "fi5 = fi5.transpose()\n",
    "w3_0 = np.dot(np.dot(inv(np.dot(fi5.transpose(),fi5)),fi5.transpose()),train_target)\n",
    "w3_0_0 = np.array(train_x).mean()-np.dot(w3_0[1:],np.array([fi5[1].mean(),fi5[2].mean()]))\n",
    "train_rmse2_0 = rmse(w3_0_0+np.dot(w3_0[1:],fi5.transpose()[1:]),train_target)\n",
    "train_rmse2_0"
   ]
  },
  {
   "cell_type": "code",
   "execution_count": 11,
   "metadata": {},
   "outputs": [
    {
     "data": {
      "text/plain": [
       "1.7340422684523498"
      ]
     },
     "execution_count": 11,
     "metadata": {},
     "output_type": "execute_result"
    }
   ],
   "source": [
    "fi5 = np.array([func,func1,func14]) #for attribute2\n",
    "fi5 = fi5.transpose()\n",
    "w3_0 = np.dot(np.dot(inv(np.dot(fi5.transpose(),fi5)),fi5.transpose()),train_target)\n",
    "w3_0_0 = np.array(train_x).mean()-np.dot(w3_0[1:],np.array([fi5[1].mean(),fi5[2].mean()]))\n",
    "train_rmse2_0 = rmse(w3_0_0+np.dot(w3_0[1:],fi5.transpose()[1:]),train_target)\n",
    "train_rmse2_0"
   ]
  },
  {
   "cell_type": "code",
   "execution_count": 12,
   "metadata": {},
   "outputs": [
    {
     "data": {
      "text/plain": [
       "1.621134279263593"
      ]
     },
     "execution_count": 12,
     "metadata": {},
     "output_type": "execute_result"
    }
   ],
   "source": [
    "fi5 = np.array([func,func1,func17]) #for attribute3\n",
    "fi5 = fi5.transpose()\n",
    "w3_0 = np.dot(np.dot(inv(np.dot(fi5.transpose(),fi5)),fi5.transpose()),train_target)\n",
    "w3_0_0 = np.array(train_x).mean()-np.dot(w3_0[1:],np.array([fi5[1].mean(),fi5[2].mean()]))\n",
    "train_rmse2_0 = rmse(w3_0_0+np.dot(w3_0[1:],fi5.transpose()[1:]),train_target)\n",
    "train_rmse2_0"
   ]
  },
  {
   "cell_type": "code",
   "execution_count": 13,
   "metadata": {},
   "outputs": [
    {
     "data": {
      "text/plain": [
       "2.0865167589303875"
      ]
     },
     "execution_count": 13,
     "metadata": {},
     "output_type": "execute_result"
    }
   ],
   "source": [
    "fi5 = np.array([func,func1,func19]) #for attribute4\n",
    "fi5 = fi5.transpose()\n",
    "w3_0 = np.dot(np.dot(inv(np.dot(fi5.transpose(),fi5)),fi5.transpose()),train_target)\n",
    "w3_0_0 = np.array(train_x).mean()-np.dot(w3_0[1:],np.array([fi5[1].mean(),fi5[2].mean()]))\n",
    "train_rmse2_0 = rmse(w3_0_0+np.dot(w3_0[1:],fi5.transpose()[1:]),train_target)\n",
    "train_rmse2_0"
   ]
  },
  {
   "cell_type": "code",
   "execution_count": null,
   "metadata": {
    "collapsed": true
   },
   "outputs": [],
   "source": []
  }
 ],
 "metadata": {
  "kernelspec": {
   "display_name": "Python 3",
   "language": "python",
   "name": "python3"
  },
  "language_info": {
   "codemirror_mode": {
    "name": "ipython",
    "version": 3
   },
   "file_extension": ".py",
   "mimetype": "text/x-python",
   "name": "python",
   "nbconvert_exporter": "python",
   "pygments_lexer": "ipython3",
   "version": "3.6.1"
  }
 },
 "nbformat": 4,
 "nbformat_minor": 2
}
